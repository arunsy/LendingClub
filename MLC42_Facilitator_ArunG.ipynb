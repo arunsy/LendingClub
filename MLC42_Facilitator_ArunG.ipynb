{
 "cells": [
  {
   "cell_type": "markdown",
   "id": "ebe89855-6fac-47b5-a0fb-68e06f01cde8",
   "metadata": {},
   "source": [
    "# Lending Club Case Study\n",
    "### Analyse the data, whether each new application will be get or rejected for the loan processing using Exploratory analysis."
   ]
  },
  {
   "cell_type": "code",
   "execution_count": 1,
   "id": "3a8c3066-367c-4d01-9d82-d547877c5b0e",
   "metadata": {},
   "outputs": [],
   "source": [
    "# import libraries\n",
    "import numpy as np\n",
    "import pandas as pd\n",
    "import matplotlib.pyplot as plt\n",
    "import seaborn as sns\n",
    "import re"
   ]
  },
  {
   "cell_type": "code",
   "execution_count": 2,
   "id": "138ad75a-4e95-408e-a047-e04911489ad8",
   "metadata": {},
   "outputs": [],
   "source": [
    "loan_data = pd.read_csv('loan.csv', header = 0, low_memory=False)"
   ]
  },
  {
   "cell_type": "code",
   "execution_count": 3,
   "id": "324182e2-81f8-4529-92e7-41837eabacea",
   "metadata": {},
   "outputs": [
    {
     "data": {
      "text/plain": [
       "(39717, 111)"
      ]
     },
     "execution_count": 3,
     "metadata": {},
     "output_type": "execute_result"
    }
   ],
   "source": [
    "#checking the size of data\n",
    "loan_data.shape"
   ]
  },
  {
   "cell_type": "code",
   "execution_count": 4,
   "id": "660c120a-b94d-411c-84d9-e04735d471a9",
   "metadata": {},
   "outputs": [
    {
     "name": "stdout",
     "output_type": "stream",
     "text": [
      "<class 'pandas.core.frame.DataFrame'>\n",
      "RangeIndex: 39717 entries, 0 to 39716\n",
      "Data columns (total 111 columns):\n",
      " #    Column                          Dtype  \n",
      "---   ------                          -----  \n",
      " 0    id                              int64  \n",
      " 1    member_id                       int64  \n",
      " 2    loan_amnt                       int64  \n",
      " 3    funded_amnt                     int64  \n",
      " 4    funded_amnt_inv                 float64\n",
      " 5    term                            object \n",
      " 6    int_rate                        object \n",
      " 7    installment                     float64\n",
      " 8    grade                           object \n",
      " 9    sub_grade                       object \n",
      " 10   emp_title                       object \n",
      " 11   emp_length                      object \n",
      " 12   home_ownership                  object \n",
      " 13   annual_inc                      float64\n",
      " 14   verification_status             object \n",
      " 15   issue_d                         object \n",
      " 16   loan_status                     object \n",
      " 17   pymnt_plan                      object \n",
      " 18   url                             object \n",
      " 19   desc                            object \n",
      " 20   purpose                         object \n",
      " 21   title                           object \n",
      " 22   zip_code                        object \n",
      " 23   addr_state                      object \n",
      " 24   dti                             float64\n",
      " 25   delinq_2yrs                     int64  \n",
      " 26   earliest_cr_line                object \n",
      " 27   inq_last_6mths                  int64  \n",
      " 28   mths_since_last_delinq          float64\n",
      " 29   mths_since_last_record          float64\n",
      " 30   open_acc                        int64  \n",
      " 31   pub_rec                         int64  \n",
      " 32   revol_bal                       int64  \n",
      " 33   revol_util                      object \n",
      " 34   total_acc                       int64  \n",
      " 35   initial_list_status             object \n",
      " 36   out_prncp                       float64\n",
      " 37   out_prncp_inv                   float64\n",
      " 38   total_pymnt                     float64\n",
      " 39   total_pymnt_inv                 float64\n",
      " 40   total_rec_prncp                 float64\n",
      " 41   total_rec_int                   float64\n",
      " 42   total_rec_late_fee              float64\n",
      " 43   recoveries                      float64\n",
      " 44   collection_recovery_fee         float64\n",
      " 45   last_pymnt_d                    object \n",
      " 46   last_pymnt_amnt                 float64\n",
      " 47   next_pymnt_d                    object \n",
      " 48   last_credit_pull_d              object \n",
      " 49   collections_12_mths_ex_med      float64\n",
      " 50   mths_since_last_major_derog     float64\n",
      " 51   policy_code                     int64  \n",
      " 52   application_type                object \n",
      " 53   annual_inc_joint                float64\n",
      " 54   dti_joint                       float64\n",
      " 55   verification_status_joint       float64\n",
      " 56   acc_now_delinq                  int64  \n",
      " 57   tot_coll_amt                    float64\n",
      " 58   tot_cur_bal                     float64\n",
      " 59   open_acc_6m                     float64\n",
      " 60   open_il_6m                      float64\n",
      " 61   open_il_12m                     float64\n",
      " 62   open_il_24m                     float64\n",
      " 63   mths_since_rcnt_il              float64\n",
      " 64   total_bal_il                    float64\n",
      " 65   il_util                         float64\n",
      " 66   open_rv_12m                     float64\n",
      " 67   open_rv_24m                     float64\n",
      " 68   max_bal_bc                      float64\n",
      " 69   all_util                        float64\n",
      " 70   total_rev_hi_lim                float64\n",
      " 71   inq_fi                          float64\n",
      " 72   total_cu_tl                     float64\n",
      " 73   inq_last_12m                    float64\n",
      " 74   acc_open_past_24mths            float64\n",
      " 75   avg_cur_bal                     float64\n",
      " 76   bc_open_to_buy                  float64\n",
      " 77   bc_util                         float64\n",
      " 78   chargeoff_within_12_mths        float64\n",
      " 79   delinq_amnt                     int64  \n",
      " 80   mo_sin_old_il_acct              float64\n",
      " 81   mo_sin_old_rev_tl_op            float64\n",
      " 82   mo_sin_rcnt_rev_tl_op           float64\n",
      " 83   mo_sin_rcnt_tl                  float64\n",
      " 84   mort_acc                        float64\n",
      " 85   mths_since_recent_bc            float64\n",
      " 86   mths_since_recent_bc_dlq        float64\n",
      " 87   mths_since_recent_inq           float64\n",
      " 88   mths_since_recent_revol_delinq  float64\n",
      " 89   num_accts_ever_120_pd           float64\n",
      " 90   num_actv_bc_tl                  float64\n",
      " 91   num_actv_rev_tl                 float64\n",
      " 92   num_bc_sats                     float64\n",
      " 93   num_bc_tl                       float64\n",
      " 94   num_il_tl                       float64\n",
      " 95   num_op_rev_tl                   float64\n",
      " 96   num_rev_accts                   float64\n",
      " 97   num_rev_tl_bal_gt_0             float64\n",
      " 98   num_sats                        float64\n",
      " 99   num_tl_120dpd_2m                float64\n",
      " 100  num_tl_30dpd                    float64\n",
      " 101  num_tl_90g_dpd_24m              float64\n",
      " 102  num_tl_op_past_12m              float64\n",
      " 103  pct_tl_nvr_dlq                  float64\n",
      " 104  percent_bc_gt_75                float64\n",
      " 105  pub_rec_bankruptcies            float64\n",
      " 106  tax_liens                       float64\n",
      " 107  tot_hi_cred_lim                 float64\n",
      " 108  total_bal_ex_mort               float64\n",
      " 109  total_bc_limit                  float64\n",
      " 110  total_il_high_credit_limit      float64\n",
      "dtypes: float64(74), int64(13), object(24)\n",
      "memory usage: 33.6+ MB\n"
     ]
    }
   ],
   "source": [
    "#checking the datatype\n",
    "loan_data.info(verbose=True)"
   ]
  },
  {
   "cell_type": "code",
   "execution_count": 5,
   "id": "4cb6aa4b-3b29-4c59-894f-63e417b662dd",
   "metadata": {},
   "outputs": [
    {
     "data": {
      "text/html": [
       "<div>\n",
       "<style scoped>\n",
       "    .dataframe tbody tr th:only-of-type {\n",
       "        vertical-align: middle;\n",
       "    }\n",
       "\n",
       "    .dataframe tbody tr th {\n",
       "        vertical-align: top;\n",
       "    }\n",
       "\n",
       "    .dataframe thead th {\n",
       "        text-align: right;\n",
       "    }\n",
       "</style>\n",
       "<table border=\"1\" class=\"dataframe\">\n",
       "  <thead>\n",
       "    <tr style=\"text-align: right;\">\n",
       "      <th></th>\n",
       "      <th>id</th>\n",
       "      <th>member_id</th>\n",
       "      <th>loan_amnt</th>\n",
       "      <th>funded_amnt</th>\n",
       "      <th>funded_amnt_inv</th>\n",
       "      <th>term</th>\n",
       "      <th>int_rate</th>\n",
       "      <th>installment</th>\n",
       "      <th>grade</th>\n",
       "      <th>sub_grade</th>\n",
       "      <th>...</th>\n",
       "      <th>num_tl_90g_dpd_24m</th>\n",
       "      <th>num_tl_op_past_12m</th>\n",
       "      <th>pct_tl_nvr_dlq</th>\n",
       "      <th>percent_bc_gt_75</th>\n",
       "      <th>pub_rec_bankruptcies</th>\n",
       "      <th>tax_liens</th>\n",
       "      <th>tot_hi_cred_lim</th>\n",
       "      <th>total_bal_ex_mort</th>\n",
       "      <th>total_bc_limit</th>\n",
       "      <th>total_il_high_credit_limit</th>\n",
       "    </tr>\n",
       "  </thead>\n",
       "  <tbody>\n",
       "    <tr>\n",
       "      <th>0</th>\n",
       "      <td>1077501</td>\n",
       "      <td>1296599</td>\n",
       "      <td>5000</td>\n",
       "      <td>5000</td>\n",
       "      <td>4975.0</td>\n",
       "      <td>36 months</td>\n",
       "      <td>10.65%</td>\n",
       "      <td>162.87</td>\n",
       "      <td>B</td>\n",
       "      <td>B2</td>\n",
       "      <td>...</td>\n",
       "      <td>NaN</td>\n",
       "      <td>NaN</td>\n",
       "      <td>NaN</td>\n",
       "      <td>NaN</td>\n",
       "      <td>0.0</td>\n",
       "      <td>0.0</td>\n",
       "      <td>NaN</td>\n",
       "      <td>NaN</td>\n",
       "      <td>NaN</td>\n",
       "      <td>NaN</td>\n",
       "    </tr>\n",
       "    <tr>\n",
       "      <th>1</th>\n",
       "      <td>1077430</td>\n",
       "      <td>1314167</td>\n",
       "      <td>2500</td>\n",
       "      <td>2500</td>\n",
       "      <td>2500.0</td>\n",
       "      <td>60 months</td>\n",
       "      <td>15.27%</td>\n",
       "      <td>59.83</td>\n",
       "      <td>C</td>\n",
       "      <td>C4</td>\n",
       "      <td>...</td>\n",
       "      <td>NaN</td>\n",
       "      <td>NaN</td>\n",
       "      <td>NaN</td>\n",
       "      <td>NaN</td>\n",
       "      <td>0.0</td>\n",
       "      <td>0.0</td>\n",
       "      <td>NaN</td>\n",
       "      <td>NaN</td>\n",
       "      <td>NaN</td>\n",
       "      <td>NaN</td>\n",
       "    </tr>\n",
       "    <tr>\n",
       "      <th>2</th>\n",
       "      <td>1077175</td>\n",
       "      <td>1313524</td>\n",
       "      <td>2400</td>\n",
       "      <td>2400</td>\n",
       "      <td>2400.0</td>\n",
       "      <td>36 months</td>\n",
       "      <td>15.96%</td>\n",
       "      <td>84.33</td>\n",
       "      <td>C</td>\n",
       "      <td>C5</td>\n",
       "      <td>...</td>\n",
       "      <td>NaN</td>\n",
       "      <td>NaN</td>\n",
       "      <td>NaN</td>\n",
       "      <td>NaN</td>\n",
       "      <td>0.0</td>\n",
       "      <td>0.0</td>\n",
       "      <td>NaN</td>\n",
       "      <td>NaN</td>\n",
       "      <td>NaN</td>\n",
       "      <td>NaN</td>\n",
       "    </tr>\n",
       "    <tr>\n",
       "      <th>3</th>\n",
       "      <td>1076863</td>\n",
       "      <td>1277178</td>\n",
       "      <td>10000</td>\n",
       "      <td>10000</td>\n",
       "      <td>10000.0</td>\n",
       "      <td>36 months</td>\n",
       "      <td>13.49%</td>\n",
       "      <td>339.31</td>\n",
       "      <td>C</td>\n",
       "      <td>C1</td>\n",
       "      <td>...</td>\n",
       "      <td>NaN</td>\n",
       "      <td>NaN</td>\n",
       "      <td>NaN</td>\n",
       "      <td>NaN</td>\n",
       "      <td>0.0</td>\n",
       "      <td>0.0</td>\n",
       "      <td>NaN</td>\n",
       "      <td>NaN</td>\n",
       "      <td>NaN</td>\n",
       "      <td>NaN</td>\n",
       "    </tr>\n",
       "    <tr>\n",
       "      <th>4</th>\n",
       "      <td>1075358</td>\n",
       "      <td>1311748</td>\n",
       "      <td>3000</td>\n",
       "      <td>3000</td>\n",
       "      <td>3000.0</td>\n",
       "      <td>60 months</td>\n",
       "      <td>12.69%</td>\n",
       "      <td>67.79</td>\n",
       "      <td>B</td>\n",
       "      <td>B5</td>\n",
       "      <td>...</td>\n",
       "      <td>NaN</td>\n",
       "      <td>NaN</td>\n",
       "      <td>NaN</td>\n",
       "      <td>NaN</td>\n",
       "      <td>0.0</td>\n",
       "      <td>0.0</td>\n",
       "      <td>NaN</td>\n",
       "      <td>NaN</td>\n",
       "      <td>NaN</td>\n",
       "      <td>NaN</td>\n",
       "    </tr>\n",
       "  </tbody>\n",
       "</table>\n",
       "<p>5 rows × 111 columns</p>\n",
       "</div>"
      ],
      "text/plain": [
       "        id  member_id  loan_amnt  funded_amnt  funded_amnt_inv        term  \\\n",
       "0  1077501    1296599       5000         5000           4975.0   36 months   \n",
       "1  1077430    1314167       2500         2500           2500.0   60 months   \n",
       "2  1077175    1313524       2400         2400           2400.0   36 months   \n",
       "3  1076863    1277178      10000        10000          10000.0   36 months   \n",
       "4  1075358    1311748       3000         3000           3000.0   60 months   \n",
       "\n",
       "  int_rate  installment grade sub_grade  ... num_tl_90g_dpd_24m  \\\n",
       "0   10.65%       162.87     B        B2  ...                NaN   \n",
       "1   15.27%        59.83     C        C4  ...                NaN   \n",
       "2   15.96%        84.33     C        C5  ...                NaN   \n",
       "3   13.49%       339.31     C        C1  ...                NaN   \n",
       "4   12.69%        67.79     B        B5  ...                NaN   \n",
       "\n",
       "  num_tl_op_past_12m pct_tl_nvr_dlq  percent_bc_gt_75 pub_rec_bankruptcies  \\\n",
       "0                NaN            NaN               NaN                  0.0   \n",
       "1                NaN            NaN               NaN                  0.0   \n",
       "2                NaN            NaN               NaN                  0.0   \n",
       "3                NaN            NaN               NaN                  0.0   \n",
       "4                NaN            NaN               NaN                  0.0   \n",
       "\n",
       "  tax_liens tot_hi_cred_lim total_bal_ex_mort total_bc_limit  \\\n",
       "0       0.0             NaN               NaN            NaN   \n",
       "1       0.0             NaN               NaN            NaN   \n",
       "2       0.0             NaN               NaN            NaN   \n",
       "3       0.0             NaN               NaN            NaN   \n",
       "4       0.0             NaN               NaN            NaN   \n",
       "\n",
       "  total_il_high_credit_limit  \n",
       "0                        NaN  \n",
       "1                        NaN  \n",
       "2                        NaN  \n",
       "3                        NaN  \n",
       "4                        NaN  \n",
       "\n",
       "[5 rows x 111 columns]"
      ]
     },
     "execution_count": 5,
     "metadata": {},
     "output_type": "execute_result"
    }
   ],
   "source": [
    "#checking first 5 elements in data\n",
    "loan_data.head()"
   ]
  },
  {
   "cell_type": "code",
   "execution_count": 6,
   "id": "2be504db-055a-426d-a413-53e9931d42b8",
   "metadata": {},
   "outputs": [
    {
     "data": {
      "text/html": [
       "<div>\n",
       "<style scoped>\n",
       "    .dataframe tbody tr th:only-of-type {\n",
       "        vertical-align: middle;\n",
       "    }\n",
       "\n",
       "    .dataframe tbody tr th {\n",
       "        vertical-align: top;\n",
       "    }\n",
       "\n",
       "    .dataframe thead th {\n",
       "        text-align: right;\n",
       "    }\n",
       "</style>\n",
       "<table border=\"1\" class=\"dataframe\">\n",
       "  <thead>\n",
       "    <tr style=\"text-align: right;\">\n",
       "      <th></th>\n",
       "      <th>id</th>\n",
       "      <th>member_id</th>\n",
       "      <th>loan_amnt</th>\n",
       "      <th>funded_amnt</th>\n",
       "      <th>funded_amnt_inv</th>\n",
       "      <th>installment</th>\n",
       "      <th>annual_inc</th>\n",
       "      <th>dti</th>\n",
       "      <th>delinq_2yrs</th>\n",
       "      <th>inq_last_6mths</th>\n",
       "      <th>...</th>\n",
       "      <th>num_tl_90g_dpd_24m</th>\n",
       "      <th>num_tl_op_past_12m</th>\n",
       "      <th>pct_tl_nvr_dlq</th>\n",
       "      <th>percent_bc_gt_75</th>\n",
       "      <th>pub_rec_bankruptcies</th>\n",
       "      <th>tax_liens</th>\n",
       "      <th>tot_hi_cred_lim</th>\n",
       "      <th>total_bal_ex_mort</th>\n",
       "      <th>total_bc_limit</th>\n",
       "      <th>total_il_high_credit_limit</th>\n",
       "    </tr>\n",
       "  </thead>\n",
       "  <tbody>\n",
       "    <tr>\n",
       "      <th>count</th>\n",
       "      <td>3.971700e+04</td>\n",
       "      <td>3.971700e+04</td>\n",
       "      <td>39717.000000</td>\n",
       "      <td>39717.000000</td>\n",
       "      <td>39717.000000</td>\n",
       "      <td>39717.000000</td>\n",
       "      <td>3.971700e+04</td>\n",
       "      <td>39717.000000</td>\n",
       "      <td>39717.000000</td>\n",
       "      <td>39717.000000</td>\n",
       "      <td>...</td>\n",
       "      <td>0.0</td>\n",
       "      <td>0.0</td>\n",
       "      <td>0.0</td>\n",
       "      <td>0.0</td>\n",
       "      <td>39020.000000</td>\n",
       "      <td>39678.0</td>\n",
       "      <td>0.0</td>\n",
       "      <td>0.0</td>\n",
       "      <td>0.0</td>\n",
       "      <td>0.0</td>\n",
       "    </tr>\n",
       "    <tr>\n",
       "      <th>mean</th>\n",
       "      <td>6.831319e+05</td>\n",
       "      <td>8.504636e+05</td>\n",
       "      <td>11219.443815</td>\n",
       "      <td>10947.713196</td>\n",
       "      <td>10397.448868</td>\n",
       "      <td>324.561922</td>\n",
       "      <td>6.896893e+04</td>\n",
       "      <td>13.315130</td>\n",
       "      <td>0.146512</td>\n",
       "      <td>0.869200</td>\n",
       "      <td>...</td>\n",
       "      <td>NaN</td>\n",
       "      <td>NaN</td>\n",
       "      <td>NaN</td>\n",
       "      <td>NaN</td>\n",
       "      <td>0.043260</td>\n",
       "      <td>0.0</td>\n",
       "      <td>NaN</td>\n",
       "      <td>NaN</td>\n",
       "      <td>NaN</td>\n",
       "      <td>NaN</td>\n",
       "    </tr>\n",
       "    <tr>\n",
       "      <th>std</th>\n",
       "      <td>2.106941e+05</td>\n",
       "      <td>2.656783e+05</td>\n",
       "      <td>7456.670694</td>\n",
       "      <td>7187.238670</td>\n",
       "      <td>7128.450439</td>\n",
       "      <td>208.874874</td>\n",
       "      <td>6.379377e+04</td>\n",
       "      <td>6.678594</td>\n",
       "      <td>0.491812</td>\n",
       "      <td>1.070219</td>\n",
       "      <td>...</td>\n",
       "      <td>NaN</td>\n",
       "      <td>NaN</td>\n",
       "      <td>NaN</td>\n",
       "      <td>NaN</td>\n",
       "      <td>0.204324</td>\n",
       "      <td>0.0</td>\n",
       "      <td>NaN</td>\n",
       "      <td>NaN</td>\n",
       "      <td>NaN</td>\n",
       "      <td>NaN</td>\n",
       "    </tr>\n",
       "    <tr>\n",
       "      <th>min</th>\n",
       "      <td>5.473400e+04</td>\n",
       "      <td>7.069900e+04</td>\n",
       "      <td>500.000000</td>\n",
       "      <td>500.000000</td>\n",
       "      <td>0.000000</td>\n",
       "      <td>15.690000</td>\n",
       "      <td>4.000000e+03</td>\n",
       "      <td>0.000000</td>\n",
       "      <td>0.000000</td>\n",
       "      <td>0.000000</td>\n",
       "      <td>...</td>\n",
       "      <td>NaN</td>\n",
       "      <td>NaN</td>\n",
       "      <td>NaN</td>\n",
       "      <td>NaN</td>\n",
       "      <td>0.000000</td>\n",
       "      <td>0.0</td>\n",
       "      <td>NaN</td>\n",
       "      <td>NaN</td>\n",
       "      <td>NaN</td>\n",
       "      <td>NaN</td>\n",
       "    </tr>\n",
       "    <tr>\n",
       "      <th>25%</th>\n",
       "      <td>5.162210e+05</td>\n",
       "      <td>6.667800e+05</td>\n",
       "      <td>5500.000000</td>\n",
       "      <td>5400.000000</td>\n",
       "      <td>5000.000000</td>\n",
       "      <td>167.020000</td>\n",
       "      <td>4.040400e+04</td>\n",
       "      <td>8.170000</td>\n",
       "      <td>0.000000</td>\n",
       "      <td>0.000000</td>\n",
       "      <td>...</td>\n",
       "      <td>NaN</td>\n",
       "      <td>NaN</td>\n",
       "      <td>NaN</td>\n",
       "      <td>NaN</td>\n",
       "      <td>0.000000</td>\n",
       "      <td>0.0</td>\n",
       "      <td>NaN</td>\n",
       "      <td>NaN</td>\n",
       "      <td>NaN</td>\n",
       "      <td>NaN</td>\n",
       "    </tr>\n",
       "    <tr>\n",
       "      <th>50%</th>\n",
       "      <td>6.656650e+05</td>\n",
       "      <td>8.508120e+05</td>\n",
       "      <td>10000.000000</td>\n",
       "      <td>9600.000000</td>\n",
       "      <td>8975.000000</td>\n",
       "      <td>280.220000</td>\n",
       "      <td>5.900000e+04</td>\n",
       "      <td>13.400000</td>\n",
       "      <td>0.000000</td>\n",
       "      <td>1.000000</td>\n",
       "      <td>...</td>\n",
       "      <td>NaN</td>\n",
       "      <td>NaN</td>\n",
       "      <td>NaN</td>\n",
       "      <td>NaN</td>\n",
       "      <td>0.000000</td>\n",
       "      <td>0.0</td>\n",
       "      <td>NaN</td>\n",
       "      <td>NaN</td>\n",
       "      <td>NaN</td>\n",
       "      <td>NaN</td>\n",
       "    </tr>\n",
       "    <tr>\n",
       "      <th>75%</th>\n",
       "      <td>8.377550e+05</td>\n",
       "      <td>1.047339e+06</td>\n",
       "      <td>15000.000000</td>\n",
       "      <td>15000.000000</td>\n",
       "      <td>14400.000000</td>\n",
       "      <td>430.780000</td>\n",
       "      <td>8.230000e+04</td>\n",
       "      <td>18.600000</td>\n",
       "      <td>0.000000</td>\n",
       "      <td>1.000000</td>\n",
       "      <td>...</td>\n",
       "      <td>NaN</td>\n",
       "      <td>NaN</td>\n",
       "      <td>NaN</td>\n",
       "      <td>NaN</td>\n",
       "      <td>0.000000</td>\n",
       "      <td>0.0</td>\n",
       "      <td>NaN</td>\n",
       "      <td>NaN</td>\n",
       "      <td>NaN</td>\n",
       "      <td>NaN</td>\n",
       "    </tr>\n",
       "    <tr>\n",
       "      <th>max</th>\n",
       "      <td>1.077501e+06</td>\n",
       "      <td>1.314167e+06</td>\n",
       "      <td>35000.000000</td>\n",
       "      <td>35000.000000</td>\n",
       "      <td>35000.000000</td>\n",
       "      <td>1305.190000</td>\n",
       "      <td>6.000000e+06</td>\n",
       "      <td>29.990000</td>\n",
       "      <td>11.000000</td>\n",
       "      <td>8.000000</td>\n",
       "      <td>...</td>\n",
       "      <td>NaN</td>\n",
       "      <td>NaN</td>\n",
       "      <td>NaN</td>\n",
       "      <td>NaN</td>\n",
       "      <td>2.000000</td>\n",
       "      <td>0.0</td>\n",
       "      <td>NaN</td>\n",
       "      <td>NaN</td>\n",
       "      <td>NaN</td>\n",
       "      <td>NaN</td>\n",
       "    </tr>\n",
       "  </tbody>\n",
       "</table>\n",
       "<p>8 rows × 87 columns</p>\n",
       "</div>"
      ],
      "text/plain": [
       "                 id     member_id     loan_amnt   funded_amnt  \\\n",
       "count  3.971700e+04  3.971700e+04  39717.000000  39717.000000   \n",
       "mean   6.831319e+05  8.504636e+05  11219.443815  10947.713196   \n",
       "std    2.106941e+05  2.656783e+05   7456.670694   7187.238670   \n",
       "min    5.473400e+04  7.069900e+04    500.000000    500.000000   \n",
       "25%    5.162210e+05  6.667800e+05   5500.000000   5400.000000   \n",
       "50%    6.656650e+05  8.508120e+05  10000.000000   9600.000000   \n",
       "75%    8.377550e+05  1.047339e+06  15000.000000  15000.000000   \n",
       "max    1.077501e+06  1.314167e+06  35000.000000  35000.000000   \n",
       "\n",
       "       funded_amnt_inv   installment    annual_inc           dti  \\\n",
       "count     39717.000000  39717.000000  3.971700e+04  39717.000000   \n",
       "mean      10397.448868    324.561922  6.896893e+04     13.315130   \n",
       "std        7128.450439    208.874874  6.379377e+04      6.678594   \n",
       "min           0.000000     15.690000  4.000000e+03      0.000000   \n",
       "25%        5000.000000    167.020000  4.040400e+04      8.170000   \n",
       "50%        8975.000000    280.220000  5.900000e+04     13.400000   \n",
       "75%       14400.000000    430.780000  8.230000e+04     18.600000   \n",
       "max       35000.000000   1305.190000  6.000000e+06     29.990000   \n",
       "\n",
       "        delinq_2yrs  inq_last_6mths  ...  num_tl_90g_dpd_24m  \\\n",
       "count  39717.000000    39717.000000  ...                 0.0   \n",
       "mean       0.146512        0.869200  ...                 NaN   \n",
       "std        0.491812        1.070219  ...                 NaN   \n",
       "min        0.000000        0.000000  ...                 NaN   \n",
       "25%        0.000000        0.000000  ...                 NaN   \n",
       "50%        0.000000        1.000000  ...                 NaN   \n",
       "75%        0.000000        1.000000  ...                 NaN   \n",
       "max       11.000000        8.000000  ...                 NaN   \n",
       "\n",
       "       num_tl_op_past_12m  pct_tl_nvr_dlq  percent_bc_gt_75  \\\n",
       "count                 0.0             0.0               0.0   \n",
       "mean                  NaN             NaN               NaN   \n",
       "std                   NaN             NaN               NaN   \n",
       "min                   NaN             NaN               NaN   \n",
       "25%                   NaN             NaN               NaN   \n",
       "50%                   NaN             NaN               NaN   \n",
       "75%                   NaN             NaN               NaN   \n",
       "max                   NaN             NaN               NaN   \n",
       "\n",
       "       pub_rec_bankruptcies  tax_liens  tot_hi_cred_lim  total_bal_ex_mort  \\\n",
       "count          39020.000000    39678.0              0.0                0.0   \n",
       "mean               0.043260        0.0              NaN                NaN   \n",
       "std                0.204324        0.0              NaN                NaN   \n",
       "min                0.000000        0.0              NaN                NaN   \n",
       "25%                0.000000        0.0              NaN                NaN   \n",
       "50%                0.000000        0.0              NaN                NaN   \n",
       "75%                0.000000        0.0              NaN                NaN   \n",
       "max                2.000000        0.0              NaN                NaN   \n",
       "\n",
       "       total_bc_limit  total_il_high_credit_limit  \n",
       "count             0.0                         0.0  \n",
       "mean              NaN                         NaN  \n",
       "std               NaN                         NaN  \n",
       "min               NaN                         NaN  \n",
       "25%               NaN                         NaN  \n",
       "50%               NaN                         NaN  \n",
       "75%               NaN                         NaN  \n",
       "max               NaN                         NaN  \n",
       "\n",
       "[8 rows x 87 columns]"
      ]
     },
     "execution_count": 6,
     "metadata": {},
     "output_type": "execute_result"
    }
   ],
   "source": [
    "# checking the describe of data\n",
    "loan_data.describe()"
   ]
  },
  {
   "cell_type": "markdown",
   "id": "7a610719-c4cc-4668-9868-ff78fdea699b",
   "metadata": {
    "tags": []
   },
   "source": [
    "## Checking data has NA or invalid data"
   ]
  },
  {
   "cell_type": "code",
   "execution_count": 7,
   "id": "8167a026-475f-4e66-8842-4225cfb70e8f",
   "metadata": {},
   "outputs": [
    {
     "name": "stdout",
     "output_type": "stream",
     "text": [
      "id: 0\n",
      "member_id: 0\n",
      "loan_amnt: 0\n",
      "funded_amnt: 0\n",
      "funded_amnt_inv: 0\n",
      "term: 0\n",
      "int_rate: 0\n",
      "installment: 0\n",
      "grade: 0\n",
      "sub_grade: 0\n",
      "emp_title: 2459\n",
      "emp_length: 1075\n",
      "home_ownership: 0\n",
      "annual_inc: 0\n",
      "verification_status: 0\n",
      "issue_d: 0\n",
      "loan_status: 0\n",
      "pymnt_plan: 0\n",
      "url: 0\n",
      "desc: 12940\n",
      "purpose: 0\n",
      "title: 11\n",
      "zip_code: 0\n",
      "addr_state: 0\n",
      "dti: 0\n",
      "delinq_2yrs: 0\n",
      "earliest_cr_line: 0\n",
      "inq_last_6mths: 0\n",
      "mths_since_last_delinq: 25682\n",
      "mths_since_last_record: 36931\n",
      "open_acc: 0\n",
      "pub_rec: 0\n",
      "revol_bal: 0\n",
      "revol_util: 50\n",
      "total_acc: 0\n",
      "initial_list_status: 0\n",
      "out_prncp: 0\n",
      "out_prncp_inv: 0\n",
      "total_pymnt: 0\n",
      "total_pymnt_inv: 0\n",
      "total_rec_prncp: 0\n",
      "total_rec_int: 0\n",
      "total_rec_late_fee: 0\n",
      "recoveries: 0\n",
      "collection_recovery_fee: 0\n",
      "last_pymnt_d: 71\n",
      "last_pymnt_amnt: 0\n",
      "next_pymnt_d: 38577\n",
      "last_credit_pull_d: 2\n",
      "collections_12_mths_ex_med: 56\n",
      "mths_since_last_major_derog: 39717\n",
      "policy_code: 0\n",
      "application_type: 0\n",
      "annual_inc_joint: 39717\n",
      "dti_joint: 39717\n",
      "verification_status_joint: 39717\n",
      "acc_now_delinq: 0\n",
      "tot_coll_amt: 39717\n",
      "tot_cur_bal: 39717\n",
      "open_acc_6m: 39717\n",
      "open_il_6m: 39717\n",
      "open_il_12m: 39717\n",
      "open_il_24m: 39717\n",
      "mths_since_rcnt_il: 39717\n",
      "total_bal_il: 39717\n",
      "il_util: 39717\n",
      "open_rv_12m: 39717\n",
      "open_rv_24m: 39717\n",
      "max_bal_bc: 39717\n",
      "all_util: 39717\n",
      "total_rev_hi_lim: 39717\n",
      "inq_fi: 39717\n",
      "total_cu_tl: 39717\n",
      "inq_last_12m: 39717\n",
      "acc_open_past_24mths: 39717\n",
      "avg_cur_bal: 39717\n",
      "bc_open_to_buy: 39717\n",
      "bc_util: 39717\n",
      "chargeoff_within_12_mths: 56\n",
      "delinq_amnt: 0\n",
      "mo_sin_old_il_acct: 39717\n",
      "mo_sin_old_rev_tl_op: 39717\n",
      "mo_sin_rcnt_rev_tl_op: 39717\n",
      "mo_sin_rcnt_tl: 39717\n",
      "mort_acc: 39717\n",
      "mths_since_recent_bc: 39717\n",
      "mths_since_recent_bc_dlq: 39717\n",
      "mths_since_recent_inq: 39717\n",
      "mths_since_recent_revol_delinq: 39717\n",
      "num_accts_ever_120_pd: 39717\n",
      "num_actv_bc_tl: 39717\n",
      "num_actv_rev_tl: 39717\n",
      "num_bc_sats: 39717\n",
      "num_bc_tl: 39717\n",
      "num_il_tl: 39717\n",
      "num_op_rev_tl: 39717\n",
      "num_rev_accts: 39717\n",
      "num_rev_tl_bal_gt_0: 39717\n",
      "num_sats: 39717\n",
      "num_tl_120dpd_2m: 39717\n",
      "num_tl_30dpd: 39717\n",
      "num_tl_90g_dpd_24m: 39717\n",
      "num_tl_op_past_12m: 39717\n",
      "pct_tl_nvr_dlq: 39717\n",
      "percent_bc_gt_75: 39717\n",
      "pub_rec_bankruptcies: 697\n",
      "tax_liens: 39\n",
      "tot_hi_cred_lim: 39717\n",
      "total_bal_ex_mort: 39717\n",
      "total_bc_limit: 39717\n",
      "total_il_high_credit_limit: 39717\n"
     ]
    }
   ],
   "source": [
    "#checking each element has NA or invalid data \n",
    "\n",
    "for col in loan_data:\n",
    "    print(\"{0}: {1}\".format(col, loan_data[col].isnull().sum()))"
   ]
  },
  {
   "cell_type": "markdown",
   "id": "7ceb393c-08a0-4927-a28b-4c6648769aab",
   "metadata": {
    "tags": []
   },
   "source": [
    "## Check and Drop the data has only unique & NA\n"
   ]
  },
  {
   "cell_type": "code",
   "execution_count": 8,
   "id": "93fae2da-1270-46c4-a420-405735d40505",
   "metadata": {},
   "outputs": [
    {
     "data": {
      "text/plain": [
       "(39717, 43)"
      ]
     },
     "execution_count": 8,
     "metadata": {},
     "output_type": "execute_result"
    }
   ],
   "source": [
    "#segregating the demographic and loan related columns (as continuous and categorical columns)\n",
    "\n",
    "con_colns = ['id', 'member_id', 'loan_amnt', 'funded_amnt', 'funded_amnt_inv', 'installment', 'annual_inc', 'dti', \\\n",
    "             'delinq_2yrs', 'inq_last_6mths', 'open_acc', 'pub_rec', 'revol_bal', 'total_acc', 'out_prncp', 'out_prncp_inv', \\\n",
    "             'total_pymnt', 'total_pymnt_inv',  'total_rec_prncp', 'total_rec_int', 'total_rec_late_fee', 'recoveries', \\\n",
    "             'collection_recovery_fee', 'last_pymnt_amnt', 'policy_code']\n",
    "cat_colns = ['title', 'emp_length' ,'zip_code', 'addr_state','term', 'int_rate', 'grade', 'sub_grade', 'home_ownership', \\\n",
    "             'verification_status', 'issue_d', 'loan_status', 'earliest_cr_line', 'revol_util', 'initial_list_status', \\\n",
    "             'last_pymnt_d', 'last_credit_pull_d', 'purpose']\n",
    "\n",
    "select_coln = cat_colns + con_colns\n",
    "loan_data2 = loan_data[select_coln]\n",
    "loan_data2.shape"
   ]
  },
  {
   "cell_type": "code",
   "execution_count": 9,
   "id": "e7f6b3ef-5b43-4c63-973a-f1e504dcda3a",
   "metadata": {
    "tags": []
   },
   "outputs": [
    {
     "name": "stdout",
     "output_type": "stream",
     "text": [
      "title: ['Computer' 'bike' 'real estate business' ... 'Retiring credit card debt'\n",
      " 'MBA Loan Consolidation' 'JAL Loan']\n",
      "emp_length: ['10+ years' '< 1 year' '1 year' '3 years' '8 years' '9 years' '4 years'\n",
      " '5 years' '6 years' '2 years' '7 years' nan]\n",
      "revol_util: ['83.70%' '9.40%' '98.50%' ... '49.63%' '0.04%' '7.28%']\n",
      "last_pymnt_d: ['Jan-15' 'Apr-13' 'Jun-14' 'May-16' 'Apr-12' 'Nov-12' 'Jun-13' 'Sep-13'\n",
      " 'Jul-12' 'Oct-13' 'May-13' 'Feb-15' 'Aug-15' 'Oct-12' 'Sep-12' nan\n",
      " 'Dec-12' 'Dec-14' 'Aug-13' 'Nov-13' 'Jan-14' 'Apr-14' 'Aug-14' 'Oct-14'\n",
      " 'Aug-12' 'Jul-14' 'Jul-13' 'Jan-16' 'Feb-16' 'Apr-15' 'Feb-14' 'Sep-14'\n",
      " 'Jun-12' 'Feb-13' 'Mar-13' 'May-14' 'Mar-15' 'Jan-13' 'Dec-13' 'Feb-12'\n",
      " 'Mar-14' 'Sep-15' 'Nov-15' 'Mar-16' 'Jan-12' 'Oct-15' 'Nov-14' 'Mar-12'\n",
      " 'May-12' 'Apr-16' 'Dec-15' 'Jun-15' 'May-15' 'Jul-15' 'Dec-11' 'Nov-11'\n",
      " 'Oct-11' 'Sep-11' 'Aug-11' 'Jul-11' 'Jun-11' 'May-11' 'Apr-11' 'Mar-11'\n",
      " 'Feb-11' 'Jan-11' 'Dec-10' 'Nov-10' 'Oct-10' 'Sep-10' 'Aug-10' 'Jul-10'\n",
      " 'Jun-10' 'May-10' 'Apr-10' 'Mar-10' 'Feb-10' 'Jan-10' 'Dec-09' 'Nov-09'\n",
      " 'Oct-09' 'Sep-09' 'Aug-09' 'Jul-09' 'Jun-09' 'May-09' 'Apr-09' 'Mar-09'\n",
      " 'Feb-09' 'Jan-09' 'Dec-08' 'Oct-08' 'Aug-08' 'Jul-08' 'Sep-08' 'Jun-08'\n",
      " 'May-08' 'Nov-08' 'Apr-08' 'Mar-08' 'Feb-08' 'Jan-08']\n",
      "last_credit_pull_d: ['May-16' 'Sep-13' 'Apr-16' 'Jan-16' 'Dec-14' 'Aug-12' 'Mar-13' 'Dec-15'\n",
      " 'Aug-13' 'Nov-12' 'Mar-14' 'Apr-15' 'May-14' 'Jul-15' 'Feb-16' 'Mar-16'\n",
      " 'Sep-12' 'May-13' 'Jan-15' 'Jun-12' 'Mar-15' 'Dec-12' 'Sep-14' 'Feb-14'\n",
      " 'Jun-15' 'Oct-13' 'Apr-14' 'Oct-14' 'Feb-13' 'Nov-15' 'Jul-14' 'Sep-15'\n",
      " 'Oct-12' 'Nov-13' 'Nov-14' 'Feb-12' 'Oct-15' 'Apr-12' 'Aug-15' 'Jun-14'\n",
      " 'Jan-12' 'Aug-14' 'Jun-13' 'Dec-13' 'May-12' 'Jul-12' 'Jan-14' 'Jul-13'\n",
      " 'Apr-13' 'May-15' 'Feb-15' 'Mar-12' 'Nov-11' 'Dec-11' 'Jan-13' 'Oct-11'\n",
      " 'Sep-11' 'Aug-11' 'Jul-11' 'Jun-11' 'May-11' 'Apr-11' 'Mar-11' 'Feb-11'\n",
      " 'Jan-11' 'Dec-10' 'Nov-10' 'Oct-10' nan 'Sep-10' 'Aug-10' 'Jul-10'\n",
      " 'Jun-10' 'May-10' 'Apr-10' 'Feb-10' 'Mar-10' 'Aug-07' 'Jan-10' 'Dec-09'\n",
      " 'Nov-09' 'Oct-09' 'Sep-09' 'Jul-09' 'Aug-09' 'May-09' 'Jun-09' 'Apr-09'\n",
      " 'Mar-09' 'Feb-09' 'Jan-09' 'Dec-08' 'Jun-08' 'Sep-08' 'May-08' 'Aug-08'\n",
      " 'Mar-08' 'Oct-08' 'Feb-08' 'Jan-08' 'Dec-07' 'Jul-08' 'Oct-07' 'Sep-07'\n",
      " 'Jun-07' 'May-07' 'Jul-07']\n"
     ]
    }
   ],
   "source": [
    "#Checking whether column has 'nan' value or not\n",
    "\n",
    "for col in loan_data2:\n",
    "    null_len = loan_data2[col].isnull().sum()\n",
    "    if (null_len > 0):\n",
    "        print(\"{0}: {1}\".format(col, loan_data2[col].unique()))"
   ]
  },
  {
   "cell_type": "code",
   "execution_count": 10,
   "id": "d29d7655-9ea8-4cbb-a164-88df349c11e1",
   "metadata": {},
   "outputs": [
    {
     "name": "stdout",
     "output_type": "stream",
     "text": [
      "title: Debt Consolidation\n",
      "emp_length: 10+ years\n",
      "revol_util: 0%\n",
      "last_pymnt_d: May-16\n",
      "last_credit_pull_d: May-16\n"
     ]
    }
   ],
   "source": [
    "#Check the maximum occurance of elements which has 'nan' value\n",
    "\n",
    "for col in loan_data2:\n",
    "    null_len = loan_data2[col].isnull().sum()\n",
    "    if (null_len > 0):\n",
    "        print(\"{0}: {1}\".format(col, loan_data2[col].mode()[0]))"
   ]
  },
  {
   "cell_type": "code",
   "execution_count": 11,
   "id": "f550164e-7a6d-496e-8660-df6263724afb",
   "metadata": {},
   "outputs": [
    {
     "data": {
      "text/plain": [
       "10+ years    8879\n",
       "< 1 year     4583\n",
       "2 years      4388\n",
       "3 years      4095\n",
       "4 years      3436\n",
       "5 years      3282\n",
       "1 year       3240\n",
       "6 years      2229\n",
       "7 years      1773\n",
       "8 years      1479\n",
       "9 years      1258\n",
       "Name: emp_length, dtype: int64"
      ]
     },
     "execution_count": 11,
     "metadata": {},
     "output_type": "execute_result"
    }
   ],
   "source": [
    "# checking the number of invidual elements for employment length\n",
    "loan_data2['emp_length'].value_counts()"
   ]
  },
  {
   "cell_type": "code",
   "execution_count": 12,
   "id": "cfb050b5-1b70-4f21-8b46-943eff011c79",
   "metadata": {},
   "outputs": [
    {
     "data": {
      "text/plain": [
       " 36 months    29096\n",
       " 60 months    10621\n",
       "Name: term, dtype: int64"
      ]
     },
     "execution_count": 12,
     "metadata": {},
     "output_type": "execute_result"
    }
   ],
   "source": [
    "loan_data2['term'].value_counts()"
   ]
  },
  {
   "cell_type": "code",
   "execution_count": 13,
   "id": "b97e81fa-ef4a-46db-b65b-26132827ff8a",
   "metadata": {},
   "outputs": [
    {
     "data": {
      "text/plain": [
       "Fully Paid     32950\n",
       "Charged Off     5627\n",
       "Current         1140\n",
       "Name: loan_status, dtype: int64"
      ]
     },
     "execution_count": 13,
     "metadata": {},
     "output_type": "execute_result"
    }
   ],
   "source": [
    "loan_data2['loan_status'].value_counts()"
   ]
  },
  {
   "cell_type": "markdown",
   "id": "b8bccc43-49f6-47b3-864e-5268f8743372",
   "metadata": {},
   "source": [
    "##  Parsing and converting data type (Continuous variables)"
   ]
  },
  {
   "cell_type": "code",
   "execution_count": 14,
   "id": "28f83223-b4f7-4627-bfd3-60da7838adc0",
   "metadata": {},
   "outputs": [
    {
     "name": "stderr",
     "output_type": "stream",
     "text": [
      "/var/folders/35/pmwqgjkj2rl0sqpqjpjcrk980000gn/T/ipykernel_780/2546272033.py:3: SettingWithCopyWarning: \n",
      "A value is trying to be set on a copy of a slice from a DataFrame\n",
      "\n",
      "See the caveats in the documentation: https://pandas.pydata.org/pandas-docs/stable/user_guide/indexing.html#returning-a-view-versus-a-copy\n",
      "  loan_data2.emp_length.fillna(loan_data2['emp_length'].mode()[0], inplace=True)\n"
     ]
    }
   ],
   "source": [
    "#imputing the via maximum occurance value for employment length\n",
    "\n",
    "loan_data2.emp_length.fillna(loan_data2['emp_length'].mode()[0], inplace=True)"
   ]
  },
  {
   "cell_type": "code",
   "execution_count": 15,
   "id": "060fb686-d0a4-49c6-b5a7-390006f2d48f",
   "metadata": {},
   "outputs": [
    {
     "name": "stderr",
     "output_type": "stream",
     "text": [
      "/var/folders/35/pmwqgjkj2rl0sqpqjpjcrk980000gn/T/ipykernel_780/3477163534.py:3: SettingWithCopyWarning: \n",
      "A value is trying to be set on a copy of a slice from a DataFrame.\n",
      "Try using .loc[row_indexer,col_indexer] = value instead\n",
      "\n",
      "See the caveats in the documentation: https://pandas.pydata.org/pandas-docs/stable/user_guide/indexing.html#returning-a-view-versus-a-copy\n",
      "  loan_data2.emp_length = loan_data2.emp_length.apply(lambda x: str(0) if '<' in x else str(\"\".join(re.findall(r'\\d+', x)))).astype(\"int64\")\n",
      "/var/folders/35/pmwqgjkj2rl0sqpqjpjcrk980000gn/T/ipykernel_780/3477163534.py:4: SettingWithCopyWarning: \n",
      "A value is trying to be set on a copy of a slice from a DataFrame.\n",
      "Try using .loc[row_indexer,col_indexer] = value instead\n",
      "\n",
      "See the caveats in the documentation: https://pandas.pydata.org/pandas-docs/stable/user_guide/indexing.html#returning-a-view-versus-a-copy\n",
      "  loan_data2.int_rate = loan_data2.int_rate.apply(lambda x:  str(\"\".join(re.findall(r'\\d+\\.\\d+', x)))).astype(\"float64\")\n"
     ]
    }
   ],
   "source": [
    "#remove the unnecessary characters and convert the employment length, interest rate as proper data type\n",
    "\n",
    "loan_data2.emp_length = loan_data2.emp_length.apply(lambda x: str(0) if '<' in x else str(\"\".join(re.findall(r'\\d+', x)))).astype(\"int64\")\n",
    "loan_data2.int_rate = loan_data2.int_rate.apply(lambda x:  str(\"\".join(re.findall(r'\\d+\\.\\d+', x)))).astype(\"float64\")"
   ]
  },
  {
   "cell_type": "markdown",
   "id": "96051c42-8829-4859-87aa-1f6033547386",
   "metadata": {},
   "source": [
    "## Finding Outliers & Cleanup"
   ]
  },
  {
   "cell_type": "code",
   "execution_count": 16,
   "id": "50afe1cd-c457-4e7f-85f7-03e01038cb74",
   "metadata": {},
   "outputs": [
    {
     "data": {
      "text/html": [
       "<div>\n",
       "<style scoped>\n",
       "    .dataframe tbody tr th:only-of-type {\n",
       "        vertical-align: middle;\n",
       "    }\n",
       "\n",
       "    .dataframe tbody tr th {\n",
       "        vertical-align: top;\n",
       "    }\n",
       "\n",
       "    .dataframe thead th {\n",
       "        text-align: right;\n",
       "    }\n",
       "</style>\n",
       "<table border=\"1\" class=\"dataframe\">\n",
       "  <thead>\n",
       "    <tr style=\"text-align: right;\">\n",
       "      <th></th>\n",
       "      <th>id</th>\n",
       "      <th>member_id</th>\n",
       "      <th>loan_amnt</th>\n",
       "      <th>funded_amnt</th>\n",
       "      <th>funded_amnt_inv</th>\n",
       "      <th>installment</th>\n",
       "      <th>annual_inc</th>\n",
       "      <th>dti</th>\n",
       "      <th>delinq_2yrs</th>\n",
       "      <th>inq_last_6mths</th>\n",
       "      <th>...</th>\n",
       "      <th>out_prncp_inv</th>\n",
       "      <th>total_pymnt</th>\n",
       "      <th>total_pymnt_inv</th>\n",
       "      <th>total_rec_prncp</th>\n",
       "      <th>total_rec_int</th>\n",
       "      <th>total_rec_late_fee</th>\n",
       "      <th>recoveries</th>\n",
       "      <th>collection_recovery_fee</th>\n",
       "      <th>last_pymnt_amnt</th>\n",
       "      <th>policy_code</th>\n",
       "    </tr>\n",
       "  </thead>\n",
       "  <tbody>\n",
       "    <tr>\n",
       "      <th>count</th>\n",
       "      <td>3.971700e+04</td>\n",
       "      <td>3.971700e+04</td>\n",
       "      <td>39717.000000</td>\n",
       "      <td>39717.000000</td>\n",
       "      <td>39717.000000</td>\n",
       "      <td>39717.000000</td>\n",
       "      <td>3.971700e+04</td>\n",
       "      <td>39717.000000</td>\n",
       "      <td>39717.000000</td>\n",
       "      <td>39717.000000</td>\n",
       "      <td>...</td>\n",
       "      <td>39717.000000</td>\n",
       "      <td>39717.000000</td>\n",
       "      <td>39717.000000</td>\n",
       "      <td>39717.000000</td>\n",
       "      <td>39717.000000</td>\n",
       "      <td>39717.000000</td>\n",
       "      <td>39717.000000</td>\n",
       "      <td>39717.000000</td>\n",
       "      <td>39717.000000</td>\n",
       "      <td>39717.0</td>\n",
       "    </tr>\n",
       "    <tr>\n",
       "      <th>mean</th>\n",
       "      <td>6.831319e+05</td>\n",
       "      <td>8.504636e+05</td>\n",
       "      <td>11219.443815</td>\n",
       "      <td>10947.713196</td>\n",
       "      <td>10397.448868</td>\n",
       "      <td>324.561922</td>\n",
       "      <td>6.896893e+04</td>\n",
       "      <td>13.315130</td>\n",
       "      <td>0.146512</td>\n",
       "      <td>0.869200</td>\n",
       "      <td>...</td>\n",
       "      <td>50.989768</td>\n",
       "      <td>12153.596544</td>\n",
       "      <td>11567.149118</td>\n",
       "      <td>9793.348813</td>\n",
       "      <td>2263.663172</td>\n",
       "      <td>1.363015</td>\n",
       "      <td>95.221624</td>\n",
       "      <td>12.406112</td>\n",
       "      <td>2678.826162</td>\n",
       "      <td>1.0</td>\n",
       "    </tr>\n",
       "    <tr>\n",
       "      <th>std</th>\n",
       "      <td>2.106941e+05</td>\n",
       "      <td>2.656783e+05</td>\n",
       "      <td>7456.670694</td>\n",
       "      <td>7187.238670</td>\n",
       "      <td>7128.450439</td>\n",
       "      <td>208.874874</td>\n",
       "      <td>6.379377e+04</td>\n",
       "      <td>6.678594</td>\n",
       "      <td>0.491812</td>\n",
       "      <td>1.070219</td>\n",
       "      <td>...</td>\n",
       "      <td>373.824457</td>\n",
       "      <td>9042.040766</td>\n",
       "      <td>8942.672613</td>\n",
       "      <td>7065.522127</td>\n",
       "      <td>2608.111964</td>\n",
       "      <td>7.289979</td>\n",
       "      <td>688.744771</td>\n",
       "      <td>148.671593</td>\n",
       "      <td>4447.136012</td>\n",
       "      <td>0.0</td>\n",
       "    </tr>\n",
       "    <tr>\n",
       "      <th>min</th>\n",
       "      <td>5.473400e+04</td>\n",
       "      <td>7.069900e+04</td>\n",
       "      <td>500.000000</td>\n",
       "      <td>500.000000</td>\n",
       "      <td>0.000000</td>\n",
       "      <td>15.690000</td>\n",
       "      <td>4.000000e+03</td>\n",
       "      <td>0.000000</td>\n",
       "      <td>0.000000</td>\n",
       "      <td>0.000000</td>\n",
       "      <td>...</td>\n",
       "      <td>0.000000</td>\n",
       "      <td>0.000000</td>\n",
       "      <td>0.000000</td>\n",
       "      <td>0.000000</td>\n",
       "      <td>0.000000</td>\n",
       "      <td>0.000000</td>\n",
       "      <td>0.000000</td>\n",
       "      <td>0.000000</td>\n",
       "      <td>0.000000</td>\n",
       "      <td>1.0</td>\n",
       "    </tr>\n",
       "    <tr>\n",
       "      <th>25%</th>\n",
       "      <td>5.162210e+05</td>\n",
       "      <td>6.667800e+05</td>\n",
       "      <td>5500.000000</td>\n",
       "      <td>5400.000000</td>\n",
       "      <td>5000.000000</td>\n",
       "      <td>167.020000</td>\n",
       "      <td>4.040400e+04</td>\n",
       "      <td>8.170000</td>\n",
       "      <td>0.000000</td>\n",
       "      <td>0.000000</td>\n",
       "      <td>...</td>\n",
       "      <td>0.000000</td>\n",
       "      <td>5576.930000</td>\n",
       "      <td>5112.310000</td>\n",
       "      <td>4600.000000</td>\n",
       "      <td>662.180000</td>\n",
       "      <td>0.000000</td>\n",
       "      <td>0.000000</td>\n",
       "      <td>0.000000</td>\n",
       "      <td>218.680000</td>\n",
       "      <td>1.0</td>\n",
       "    </tr>\n",
       "    <tr>\n",
       "      <th>50%</th>\n",
       "      <td>6.656650e+05</td>\n",
       "      <td>8.508120e+05</td>\n",
       "      <td>10000.000000</td>\n",
       "      <td>9600.000000</td>\n",
       "      <td>8975.000000</td>\n",
       "      <td>280.220000</td>\n",
       "      <td>5.900000e+04</td>\n",
       "      <td>13.400000</td>\n",
       "      <td>0.000000</td>\n",
       "      <td>1.000000</td>\n",
       "      <td>...</td>\n",
       "      <td>0.000000</td>\n",
       "      <td>9899.640319</td>\n",
       "      <td>9287.150000</td>\n",
       "      <td>8000.000000</td>\n",
       "      <td>1348.910000</td>\n",
       "      <td>0.000000</td>\n",
       "      <td>0.000000</td>\n",
       "      <td>0.000000</td>\n",
       "      <td>546.140000</td>\n",
       "      <td>1.0</td>\n",
       "    </tr>\n",
       "    <tr>\n",
       "      <th>75%</th>\n",
       "      <td>8.377550e+05</td>\n",
       "      <td>1.047339e+06</td>\n",
       "      <td>15000.000000</td>\n",
       "      <td>15000.000000</td>\n",
       "      <td>14400.000000</td>\n",
       "      <td>430.780000</td>\n",
       "      <td>8.230000e+04</td>\n",
       "      <td>18.600000</td>\n",
       "      <td>0.000000</td>\n",
       "      <td>1.000000</td>\n",
       "      <td>...</td>\n",
       "      <td>0.000000</td>\n",
       "      <td>16534.433040</td>\n",
       "      <td>15798.810000</td>\n",
       "      <td>13653.260000</td>\n",
       "      <td>2833.400000</td>\n",
       "      <td>0.000000</td>\n",
       "      <td>0.000000</td>\n",
       "      <td>0.000000</td>\n",
       "      <td>3293.160000</td>\n",
       "      <td>1.0</td>\n",
       "    </tr>\n",
       "    <tr>\n",
       "      <th>max</th>\n",
       "      <td>1.077501e+06</td>\n",
       "      <td>1.314167e+06</td>\n",
       "      <td>35000.000000</td>\n",
       "      <td>35000.000000</td>\n",
       "      <td>35000.000000</td>\n",
       "      <td>1305.190000</td>\n",
       "      <td>6.000000e+06</td>\n",
       "      <td>29.990000</td>\n",
       "      <td>11.000000</td>\n",
       "      <td>8.000000</td>\n",
       "      <td>...</td>\n",
       "      <td>6307.370000</td>\n",
       "      <td>58563.679930</td>\n",
       "      <td>58563.680000</td>\n",
       "      <td>35000.020000</td>\n",
       "      <td>23563.680000</td>\n",
       "      <td>180.200000</td>\n",
       "      <td>29623.350000</td>\n",
       "      <td>7002.190000</td>\n",
       "      <td>36115.200000</td>\n",
       "      <td>1.0</td>\n",
       "    </tr>\n",
       "  </tbody>\n",
       "</table>\n",
       "<p>8 rows × 25 columns</p>\n",
       "</div>"
      ],
      "text/plain": [
       "                 id     member_id     loan_amnt   funded_amnt  \\\n",
       "count  3.971700e+04  3.971700e+04  39717.000000  39717.000000   \n",
       "mean   6.831319e+05  8.504636e+05  11219.443815  10947.713196   \n",
       "std    2.106941e+05  2.656783e+05   7456.670694   7187.238670   \n",
       "min    5.473400e+04  7.069900e+04    500.000000    500.000000   \n",
       "25%    5.162210e+05  6.667800e+05   5500.000000   5400.000000   \n",
       "50%    6.656650e+05  8.508120e+05  10000.000000   9600.000000   \n",
       "75%    8.377550e+05  1.047339e+06  15000.000000  15000.000000   \n",
       "max    1.077501e+06  1.314167e+06  35000.000000  35000.000000   \n",
       "\n",
       "       funded_amnt_inv   installment    annual_inc           dti  \\\n",
       "count     39717.000000  39717.000000  3.971700e+04  39717.000000   \n",
       "mean      10397.448868    324.561922  6.896893e+04     13.315130   \n",
       "std        7128.450439    208.874874  6.379377e+04      6.678594   \n",
       "min           0.000000     15.690000  4.000000e+03      0.000000   \n",
       "25%        5000.000000    167.020000  4.040400e+04      8.170000   \n",
       "50%        8975.000000    280.220000  5.900000e+04     13.400000   \n",
       "75%       14400.000000    430.780000  8.230000e+04     18.600000   \n",
       "max       35000.000000   1305.190000  6.000000e+06     29.990000   \n",
       "\n",
       "        delinq_2yrs  inq_last_6mths  ...  out_prncp_inv   total_pymnt  \\\n",
       "count  39717.000000    39717.000000  ...   39717.000000  39717.000000   \n",
       "mean       0.146512        0.869200  ...      50.989768  12153.596544   \n",
       "std        0.491812        1.070219  ...     373.824457   9042.040766   \n",
       "min        0.000000        0.000000  ...       0.000000      0.000000   \n",
       "25%        0.000000        0.000000  ...       0.000000   5576.930000   \n",
       "50%        0.000000        1.000000  ...       0.000000   9899.640319   \n",
       "75%        0.000000        1.000000  ...       0.000000  16534.433040   \n",
       "max       11.000000        8.000000  ...    6307.370000  58563.679930   \n",
       "\n",
       "       total_pymnt_inv  total_rec_prncp  total_rec_int  total_rec_late_fee  \\\n",
       "count     39717.000000     39717.000000   39717.000000        39717.000000   \n",
       "mean      11567.149118      9793.348813    2263.663172            1.363015   \n",
       "std        8942.672613      7065.522127    2608.111964            7.289979   \n",
       "min           0.000000         0.000000       0.000000            0.000000   \n",
       "25%        5112.310000      4600.000000     662.180000            0.000000   \n",
       "50%        9287.150000      8000.000000    1348.910000            0.000000   \n",
       "75%       15798.810000     13653.260000    2833.400000            0.000000   \n",
       "max       58563.680000     35000.020000   23563.680000          180.200000   \n",
       "\n",
       "         recoveries  collection_recovery_fee  last_pymnt_amnt  policy_code  \n",
       "count  39717.000000             39717.000000     39717.000000      39717.0  \n",
       "mean      95.221624                12.406112      2678.826162          1.0  \n",
       "std      688.744771               148.671593      4447.136012          0.0  \n",
       "min        0.000000                 0.000000         0.000000          1.0  \n",
       "25%        0.000000                 0.000000       218.680000          1.0  \n",
       "50%        0.000000                 0.000000       546.140000          1.0  \n",
       "75%        0.000000                 0.000000      3293.160000          1.0  \n",
       "max    29623.350000              7002.190000     36115.200000          1.0  \n",
       "\n",
       "[8 rows x 25 columns]"
      ]
     },
     "execution_count": 16,
     "metadata": {},
     "output_type": "execute_result"
    }
   ],
   "source": [
    "loan_data2[con_colns].describe()"
   ]
  },
  {
   "cell_type": "code",
   "execution_count": 17,
   "id": "4ad86ae6-9fd9-4c99-ac7f-7bbde6f2ef57",
   "metadata": {},
   "outputs": [],
   "source": [
    "#removing the who got already approved the loan and \"current\" paying the loan\n",
    "loan_data2 = loan_data2[loan_data2['loan_status'] != \"Current\"]"
   ]
  },
  {
   "cell_type": "code",
   "execution_count": 18,
   "id": "7b6e6060-62b4-4553-b2f4-e725339fec30",
   "metadata": {},
   "outputs": [
    {
     "name": "stdout",
     "output_type": "stream",
     "text": [
      "(38577, 43)\n"
     ]
    },
    {
     "data": {
      "image/png": "[encoded data removed]",
      "text/plain": [
       "<Figure size 576x432 with 1 Axes>"
      ]
     },
     "metadata": {
      "needs_background": "light"
     },
     "output_type": "display_data"
    }
   ],
   "source": [
    "#finding the outlier values for loan amount, funded amount, inverstor funded amount\n",
    "\n",
    "print (loan_data2.shape)\n",
    "plt.figure(figsize = [8,6])\n",
    "ax = sns.boxplot(data = loan_data2[['loan_amnt', 'funded_amnt', 'funded_amnt_inv']])\n",
    "plt.show()"
   ]
  },
  {
   "cell_type": "code",
   "execution_count": 19,
   "id": "c0122dc7-0fc1-4dae-a542-b72c7dfae78a",
   "metadata": {},
   "outputs": [
    {
     "name": "stdout",
     "output_type": "stream",
     "text": [
      "-9700.0 30000.0\n"
     ]
    },
    {
     "data": {
      "text/plain": [
       "(37842, 43)"
      ]
     },
     "execution_count": 19,
     "metadata": {},
     "output_type": "execute_result"
    }
   ],
   "source": [
    "#removing the outlier values for investor funded amount\n",
    "\n",
    "IQR = loan_data2.loan_amnt.quantile(0.75) - loan_data2.funded_amnt_inv.quantile(0.25)\n",
    "\n",
    "LW = loan_data2.loan_amnt.quantile(0.25) - (1.5 * IQR)\n",
    "HW = loan_data2.loan_amnt.quantile(0.75) + (1.5 * IQR)\n",
    "\n",
    "loan_data2 = loan_data2[(loan_data2.loan_amnt >= LW) & (loan_data2.loan_amnt <= HW)]\n",
    "\n",
    "print (LW, HW)\n",
    "loan_data2.shape"
   ]
  },
  {
   "cell_type": "code",
   "execution_count": 20,
   "id": "52f17c47-85ab-470c-96d6-ce7bd6e9f7e6",
   "metadata": {},
   "outputs": [
    {
     "data": {
      "image/png": "[encoded data removed]",
      "text/plain": [
       "<Figure size 576x432 with 1 Axes>"
      ]
     },
     "metadata": {
      "needs_background": "light"
     },
     "output_type": "display_data"
    },
    {
     "data": {
      "text/plain": [
       "(37842, 43)"
      ]
     },
     "execution_count": 20,
     "metadata": {},
     "output_type": "execute_result"
    }
   ],
   "source": [
    "#trying to figure out the outlier values for interest rate and employment length\n",
    "\n",
    "plt.figure(figsize = [8,6])\n",
    "ax = sns.boxplot(data = loan_data2[['int_rate', 'emp_length']])\n",
    "plt.show()\n",
    "loan_data2.shape"
   ]
  },
  {
   "cell_type": "code",
   "execution_count": 21,
   "id": "1924f47d-118a-47c5-94fa-0a7952498c4d",
   "metadata": {},
   "outputs": [
    {
     "data": {
      "text/plain": [
       "0    Dec-11\n",
       "1    Dec-11\n",
       "2    Dec-11\n",
       "3    Dec-11\n",
       "5    Dec-11\n",
       "Name: issue_d, dtype: object"
      ]
     },
     "execution_count": 21,
     "metadata": {},
     "output_type": "execute_result"
    }
   ],
   "source": [
    "loan_data2['issue_d'].head()"
   ]
  },
  {
   "cell_type": "code",
   "execution_count": 22,
   "id": "29d2ac37-827c-41a0-b1e5-60b6f1149aa0",
   "metadata": {},
   "outputs": [],
   "source": [
    "#parse the loan issue column and add as new column for year & month\n",
    "\n",
    "loan_data2['issue_d_year'] = pd.to_datetime(loan_data2['issue_d'].str.lower(), format=\"%b-%y\").dt.year"
   ]
  },
  {
   "cell_type": "code",
   "execution_count": 23,
   "id": "a478eb08-a955-40dc-a9c6-25aa073c2c61",
   "metadata": {},
   "outputs": [],
   "source": [
    "loan_data2['issue_d_month'] = pd.to_datetime(loan_data2['issue_d'].str.lower(), format=\"%b-%y\").dt.month"
   ]
  },
  {
   "cell_type": "code",
   "execution_count": 24,
   "id": "02f6c14d-751b-4328-a4fd-b31dc1bef6e7",
   "metadata": {},
   "outputs": [
    {
     "data": {
      "text/html": [
       "<div>\n",
       "<style scoped>\n",
       "    .dataframe tbody tr th:only-of-type {\n",
       "        vertical-align: middle;\n",
       "    }\n",
       "\n",
       "    .dataframe tbody tr th {\n",
       "        vertical-align: top;\n",
       "    }\n",
       "\n",
       "    .dataframe thead th {\n",
       "        text-align: right;\n",
       "    }\n",
       "</style>\n",
       "<table border=\"1\" class=\"dataframe\">\n",
       "  <thead>\n",
       "    <tr style=\"text-align: right;\">\n",
       "      <th></th>\n",
       "      <th>issue_d_month</th>\n",
       "      <th>issue_d_year</th>\n",
       "    </tr>\n",
       "  </thead>\n",
       "  <tbody>\n",
       "    <tr>\n",
       "      <th>0</th>\n",
       "      <td>12</td>\n",
       "      <td>2011</td>\n",
       "    </tr>\n",
       "    <tr>\n",
       "      <th>1</th>\n",
       "      <td>12</td>\n",
       "      <td>2011</td>\n",
       "    </tr>\n",
       "    <tr>\n",
       "      <th>2</th>\n",
       "      <td>12</td>\n",
       "      <td>2011</td>\n",
       "    </tr>\n",
       "    <tr>\n",
       "      <th>3</th>\n",
       "      <td>12</td>\n",
       "      <td>2011</td>\n",
       "    </tr>\n",
       "    <tr>\n",
       "      <th>5</th>\n",
       "      <td>12</td>\n",
       "      <td>2011</td>\n",
       "    </tr>\n",
       "  </tbody>\n",
       "</table>\n",
       "</div>"
      ],
      "text/plain": [
       "   issue_d_month  issue_d_year\n",
       "0             12          2011\n",
       "1             12          2011\n",
       "2             12          2011\n",
       "3             12          2011\n",
       "5             12          2011"
      ]
     },
     "execution_count": 24,
     "metadata": {},
     "output_type": "execute_result"
    }
   ],
   "source": [
    "loan_data2[['issue_d_month', 'issue_d_year']].head()"
   ]
  },
  {
   "cell_type": "code",
   "execution_count": 25,
   "id": "55f5405f-b66c-41d7-bcd5-87768f52e352",
   "metadata": {},
   "outputs": [],
   "source": [
    "#parsing the term and added as new column\n",
    "loan_data2['term_month'] = loan_data2.term.apply(lambda x: int(\"\".join(re.findall(r'\\d+', x))) )"
   ]
  },
  {
   "cell_type": "code",
   "execution_count": 26,
   "id": "2a9e718c-b885-4e99-8a5e-24bb0e698246",
   "metadata": {},
   "outputs": [],
   "source": [
    "#parsing the loan status and added new column as continuous variable for data analysis.\n",
    "loan_data2['loan_status_int'] = loan_data2.loan_status.apply(lambda x: 1 if x == \"Fully Paid\" else  0)"
   ]
  },
  {
   "cell_type": "code",
   "execution_count": 27,
   "id": "b57ee0fa-28fb-4cc6-b2ab-be3853b379bc",
   "metadata": {},
   "outputs": [
    {
     "data": {
      "image/png": "[encoded data removed]",
      "text/plain": [
       "<Figure size 576x432 with 1 Axes>"
      ]
     },
     "metadata": {
      "needs_background": "light"
     },
     "output_type": "display_data"
    }
   ],
   "source": [
    "#Plotting histogram for zip code\n",
    "\n",
    "plt.figure(figsize = [8,6])\n",
    "sns.histplot(loan_data2.zip_code)\n",
    "plt.show()"
   ]
  },
  {
   "cell_type": "code",
   "execution_count": 28,
   "id": "d260e129-a0f9-4aa1-b59c-87f676c6e941",
   "metadata": {},
   "outputs": [],
   "source": [
    "#parsing the zip code as integer type for processing if required\n",
    "\n",
    "loan_data2.zip_code = loan_data2.zip_code.apply(lambda x: x[:3]).astype(\"int64\")"
   ]
  },
  {
   "cell_type": "code",
   "execution_count": 29,
   "id": "935cc1f8-bde6-4f27-b665-6adde3c944c2",
   "metadata": {},
   "outputs": [
    {
     "name": "stdout",
     "output_type": "stream",
     "text": [
      "3.943999999999999 22.735999999999997\n"
     ]
    },
    {
     "data": {
      "text/plain": [
       "(31015, 47)"
      ]
     },
     "execution_count": 29,
     "metadata": {},
     "output_type": "execute_result"
    }
   ],
   "source": [
    "# Based on above plot for DTI, there is outliers on both range, based on this calculation ignoring the outliers.\n",
    "# I have used the scale values as 0.4 rather than 1.5\n",
    "\n",
    "IQR = loan_data2.dti.quantile(0.75) - loan_data2.dti.quantile(0.25)\n",
    "\n",
    "LW = loan_data2.dti.quantile(0.25) - (0.4 * IQR)\n",
    "HW = loan_data2.dti.quantile(0.75) + (0.4 * IQR)\n",
    "\n",
    "print(LW, HW)\n",
    "loan_data2 = loan_data2[(loan_data2.dti >= LW) & (loan_data2.dti <= HW)]\n",
    "loan_data2.shape"
   ]
  },
  {
   "cell_type": "code",
   "execution_count": 30,
   "id": "02bb2094-746c-4abe-80ae-504aa51a1150",
   "metadata": {},
   "outputs": [
    {
     "data": {
      "text/plain": [
       "count    31015.000000\n",
       "mean         5.072675\n",
       "std          3.377136\n",
       "min          0.000000\n",
       "25%          2.000000\n",
       "50%          4.000000\n",
       "75%          7.000000\n",
       "max         15.000000\n",
       "Name: loan_amnt_k, dtype: float64"
      ]
     },
     "execution_count": 30,
     "metadata": {},
     "output_type": "execute_result"
    }
   ],
   "source": [
    "#Binning the loan amount, inverstor funded amount data interms of 1000 (K)\n",
    "\n",
    "loan_data2['loan_amnt_k'] = loan_data2['loan_amnt'].apply(lambda x: int(x/2000))\n",
    "loan_data2['funded_amnt_inv_k'] = loan_data2['funded_amnt_inv'].apply(lambda x: int(x/2000))\n",
    "loan_data2['loan_amnt_k'].describe()"
   ]
  },
  {
   "cell_type": "code",
   "execution_count": 31,
   "id": "8c9f038d-1d0f-4fae-b2eb-e5963a316ef7",
   "metadata": {},
   "outputs": [],
   "source": [
    "#Loan amount to categorical column\n",
    "def loan_amount_catg(loan_data2) :\n",
    "    if loan_data2['loan_amnt'] <= 5000 :\n",
    "        return \"Tenure_0-5k\"\n",
    "    elif (loan_data2['loan_amnt'] > 5000) & (loan_data2['loan_amnt'] <= 10000 ):\n",
    "        return \"Tenure_5k-10k\"\n",
    "    elif (loan_data2['loan_amnt'] > 10000) & (loan_data2['loan_amnt'] <= 15000) :\n",
    "        return \"Tenure_10k-15k\"\n",
    "    elif (loan_data2['loan_amnt'] > 15000) & (loan_data2['loan_amnt'] <= 20000) :\n",
    "        return \"Tenure_15k-20k\"\n",
    "    elif (loan_data2['loan_amnt'] > 20000) & (loan_data2['loan_amnt'] <= 25000) :\n",
    "        return \"Tenure_20k-25k\"\n",
    "    elif (loan_data2['loan_amnt'] > 25000) & (loan_data2['loan_amnt'] <= 30000) :\n",
    "        return \"Tenure_25k-30k\"\n",
    "    else :\n",
    "        return \"Tenure_gt_30k\"\n",
    "    \n",
    "loan_data2['loan_amnt_group'] = loan_data2.apply(lambda loan_data2:loan_amount_catg(loan_data2), axis = 1)"
   ]
  },
  {
   "cell_type": "code",
   "execution_count": 32,
   "id": "2379f7c5-4863-40bc-b6f4-e413905c6ca1",
   "metadata": {},
   "outputs": [
    {
     "data": {
      "text/plain": [
       "Tenure_5k-10k     10466\n",
       "Tenure_0-5k        7421\n",
       "Tenure_10k-15k     6506\n",
       "Tenure_15k-20k     3659\n",
       "Tenure_20k-25k     2391\n",
       "Tenure_25k-30k      572\n",
       "Name: loan_amnt_group, dtype: int64"
      ]
     },
     "execution_count": 32,
     "metadata": {},
     "output_type": "execute_result"
    }
   ],
   "source": [
    "loan_data2['loan_amnt_group'].value_counts()"
   ]
  },
  {
   "cell_type": "code",
   "execution_count": 33,
   "id": "604e7c36-a17c-4831-a81c-b44b018b99ba",
   "metadata": {},
   "outputs": [
    {
     "data": {
      "text/plain": [
       "CA    5592\n",
       "NY    2927\n",
       "FL    2217\n",
       "TX    2116\n",
       "NJ    1433\n",
       "PA    1209\n",
       "IL    1204\n",
       "VA    1118\n",
       "GA    1080\n",
       "MA    1070\n",
       "OH     937\n",
       "MD     836\n",
       "AZ     679\n",
       "WA     678\n",
       "CO     613\n",
       "CT     596\n",
       "NC     596\n",
       "MI     571\n",
       "MO     528\n",
       "MN     503\n",
       "NV     385\n",
       "SC     367\n",
       "OR     356\n",
       "WI     355\n",
       "LA     339\n",
       "AL     334\n",
       "KY     242\n",
       "OK     232\n",
       "KS     200\n",
       "UT     191\n",
       "DC     181\n",
       "AR     179\n",
       "RI     161\n",
       "WV     147\n",
       "NM     144\n",
       "NH     137\n",
       "HI     122\n",
       "DE      97\n",
       "MT      67\n",
       "WY      66\n",
       "AK      63\n",
       "SD      56\n",
       "VT      42\n",
       "MS      15\n",
       "TN      14\n",
       "IN       8\n",
       "NE       5\n",
       "ID       4\n",
       "IA       3\n",
       "Name: addr_state, dtype: int64"
      ]
     },
     "execution_count": 33,
     "metadata": {},
     "output_type": "execute_result"
    }
   ],
   "source": [
    "loan_data2.addr_state.value_counts()"
   ]
  },
  {
   "cell_type": "code",
   "execution_count": 34,
   "id": "d26971ae-4e92-4551-9cb2-55a8e70d9714",
   "metadata": {},
   "outputs": [
    {
     "data": {
      "text/plain": [
       "(30575, 50)"
      ]
     },
     "execution_count": 34,
     "metadata": {},
     "output_type": "execute_result"
    }
   ],
   "source": [
    "#Filter the 'addr_state' data considering mininum number (ex: 100) of applictions \n",
    "\n",
    "statedata = dict(loan_data2.addr_state.value_counts())\n",
    "\n",
    "def enable_state(x, statedata):\n",
    "    num_of_appl = int(statedata[x])\n",
    "    if num_of_appl > 100:\n",
    "        return True\n",
    "    else:\n",
    "        return False\n",
    "    \n",
    "zip_flag = loan_data2.addr_state.apply(lambda x: enable_state(x, statedata))\n",
    "loan_data2.addr_state.value_counts()\n",
    "\n",
    "loan_data2 = loan_data2[zip_flag == True]\n",
    "loan_data2.shape"
   ]
  },
  {
   "cell_type": "markdown",
   "id": "1ad9a124-19ac-418a-93e4-21abaca9f862",
   "metadata": {},
   "source": [
    "## Analysing the loan applicaiton eligiblity based on data"
   ]
  },
  {
   "cell_type": "markdown",
   "id": "b9d4dd6b-9d69-4d7b-9261-d9ba0becb19c",
   "metadata": {},
   "source": [
    "## Univariate Analysis"
   ]
  },
  {
   "cell_type": "code",
   "execution_count": 35,
   "id": "bd26d1c7-6cf1-470a-82c4-2875850f5f64",
   "metadata": {},
   "outputs": [
    {
     "data": {
      "image/png": "[encoded data removed]",
      "text/plain": [
       "<Figure size 576x432 with 1 Axes>"
      ]
     },
     "metadata": {
      "needs_background": "light"
     },
     "output_type": "display_data"
    }
   ],
   "source": [
    "plt.figure(figsize = [8, 6])\n",
    "ax = sns.histplot(loan_data2.issue_d_year, bins = 5)\n",
    "plt.show()"
   ]
  },
  {
   "cell_type": "markdown",
   "id": "8afe99ca-612a-4732-8ffa-9e7ae577876c",
   "metadata": {},
   "source": [
    "### Insight1: Loans are processed by the Bank is lineraly increasing from 2007 to 2011."
   ]
  },
  {
   "cell_type": "code",
   "execution_count": 36,
   "id": "11b5c414-0c97-4f48-9a14-dd89cff0efa4",
   "metadata": {},
   "outputs": [
    {
     "data": {
      "image/png": "[encoded data removed]",
      "text/plain": [
       "<Figure size 576x432 with 1 Axes>"
      ]
     },
     "metadata": {
      "needs_background": "light"
     },
     "output_type": "display_data"
    }
   ],
   "source": [
    "plt.figure(figsize = [8, 6])\n",
    "sns.histplot(loan_data2['loan_amnt_k'], bins = 10)\n",
    "plt.show()"
   ]
  },
  {
   "cell_type": "code",
   "execution_count": 37,
   "id": "aa4d4b4c-ece7-4e1a-8240-6e4a047bdc90",
   "metadata": {},
   "outputs": [
    {
     "data": {
      "image/png": "[encoded data removed]",
      "text/plain": [
       "<Figure size 576x432 with 1 Axes>"
      ]
     },
     "metadata": {
      "needs_background": "light"
     },
     "output_type": "display_data"
    }
   ],
   "source": [
    "plt.figure(figsize = [8, 6])\n",
    "sns.histplot(loan_data2['issue_d_month'], bins=12)\n",
    "plt.show()"
   ]
  },
  {
   "cell_type": "code",
   "execution_count": 38,
   "id": "ee3b9bf3-ce94-41ec-bb16-17370105ac00",
   "metadata": {},
   "outputs": [
    {
     "data": {
      "image/png": "[encoded data removed]",
      "text/plain": [
       "<Figure size 576x432 with 1 Axes>"
      ]
     },
     "metadata": {
      "needs_background": "light"
     },
     "output_type": "display_data"
    }
   ],
   "source": [
    "#finding th average interest \n",
    "plt.figure(figsize = [8,6])\n",
    "sns.histplot(loan_data2.dti)\n",
    "plt.show()"
   ]
  },
  {
   "cell_type": "code",
   "execution_count": 39,
   "id": "769410c2-d67b-4d4f-9914-795f4292cffe",
   "metadata": {},
   "outputs": [
    {
     "data": {
      "image/png": "[encoded data removed]",
      "text/plain": [
       "<Figure size 576x432 with 1 Axes>"
      ]
     },
     "metadata": {
      "needs_background": "light"
     },
     "output_type": "display_data"
    }
   ],
   "source": [
    "plt.figure(figsize = [8,6])\n",
    "sns.histplot(loan_data2.loan_status, bins = 2)\n",
    "plt.show()"
   ]
  },
  {
   "cell_type": "code",
   "execution_count": 40,
   "id": "c75f7f23-d1aa-4548-9a6d-b824fed810da",
   "metadata": {},
   "outputs": [
    {
     "data": {
      "image/png": "[encoded data removed]",
      "text/plain": [
       "<Figure size 576x432 with 1 Axes>"
      ]
     },
     "metadata": {
      "needs_background": "light"
     },
     "output_type": "display_data"
    }
   ],
   "source": [
    "plt.figure(figsize = [8,6])\n",
    "sns.histplot(loan_data2.term, bins = 2)\n",
    "plt.show()"
   ]
  },
  {
   "cell_type": "markdown",
   "id": "69fb9478-5191-4ad8-b455-39adbeaf613c",
   "metadata": {},
   "source": [
    "### Insight: More number of loans are applied for Short terms (3 year) rather than 5 year term."
   ]
  },
  {
   "cell_type": "markdown",
   "id": "11049815-3ddf-4ccc-a577-deca1fb80ca5",
   "metadata": {},
   "source": [
    "## Bivariate Analysis"
   ]
  },
  {
   "cell_type": "code",
   "execution_count": 41,
   "id": "7f65f264-5ca9-4717-bd52-360a96239f34",
   "metadata": {},
   "outputs": [
    {
     "data": {
      "image/png": "[encoded data removed]",
      "text/plain": [
       "<Figure size 576x432 with 1 Axes>"
      ]
     },
     "metadata": {
      "needs_background": "light"
     },
     "output_type": "display_data"
    }
   ],
   "source": [
    "plt.figure(figsize = [8,6])\n",
    "ax = sns.barplot(x = loan_data2.funded_amnt_inv_k, y = loan_data2.emp_length)\n",
    "plt.show()"
   ]
  },
  {
   "cell_type": "markdown",
   "id": "409281b7-18ff-4ff3-b22b-adac48d0b00c",
   "metadata": {},
   "source": [
    "### Insight: when the applicant has long employment, they apply for high loan amount."
   ]
  },
  {
   "cell_type": "code",
   "execution_count": 42,
   "id": "2c5ee47c-f34c-4516-8c70-58558fde6656",
   "metadata": {},
   "outputs": [
    {
     "data": {
      "image/png": "[encoded data removed]",
      "text/plain": [
       "<Figure size 576x432 with 1 Axes>"
      ]
     },
     "metadata": {
      "needs_background": "light"
     },
     "output_type": "display_data"
    }
   ],
   "source": [
    "plt.figure(figsize = [8,6])\n",
    "ax = sns.barplot(x = loan_data2.funded_amnt_inv_k, y = loan_data2.int_rate)\n",
    "plt.show()"
   ]
  },
  {
   "cell_type": "code",
   "execution_count": 43,
   "id": "a133fbc0-ee63-46a3-8a3e-bbd58b5de28c",
   "metadata": {},
   "outputs": [
    {
     "data": {
      "image/png": "[encoded data removed]",
      "text/plain": [
       "<Figure size 576x432 with 1 Axes>"
      ]
     },
     "metadata": {
      "needs_background": "light"
     },
     "output_type": "display_data"
    }
   ],
   "source": [
    "plt.figure(figsize = [8,6])\n",
    "ax = sns.barplot(x = loan_data2.loan_amnt_group, y = loan_data2.int_rate, hue = loan_data2.loan_status)\n",
    "plt.xticks(rotation = 90)\n",
    "plt.show()"
   ]
  },
  {
   "cell_type": "markdown",
   "id": "55653671-eba9-4095-bc0b-327fba355f1a",
   "metadata": {},
   "source": [
    "### Insight: when loan amount & interest rate is high, there is high number of applicats are charged off i.e. defaulting of loan."
   ]
  },
  {
   "cell_type": "code",
   "execution_count": 44,
   "id": "15da2c9e-ce5d-47f8-bdef-96904ecac7d0",
   "metadata": {},
   "outputs": [
    {
     "data": {
      "image/png": "[encoded data removed]",
      "text/plain": [
       "<Figure size 576x576 with 1 Axes>"
      ]
     },
     "metadata": {
      "needs_background": "light"
     },
     "output_type": "display_data"
    }
   ],
   "source": [
    "plt.figure(figsize = [8,8])\n",
    "ax = sns.barplot(x = loan_data2.loan_amnt_group, y = loan_data2.int_rate, hue = loan_data2.term)\n",
    "plt.xticks(rotation = 90)\n",
    "plt.show()"
   ]
  },
  {
   "cell_type": "code",
   "execution_count": 45,
   "id": "d6332e99-ca15-4983-8f77-fbc07f787900",
   "metadata": {},
   "outputs": [
    {
     "data": {
      "image/png": "[encoded data removed]",
      "text/plain": [
       "<Figure size 576x432 with 1 Axes>"
      ]
     },
     "metadata": {
      "needs_background": "light"
     },
     "output_type": "display_data"
    }
   ],
   "source": [
    "pd.crosstab(loan_data2.term_month, loan_data2.loan_status).plot(kind=\"bar\",figsize=(8,6),color=['blue','green' ])\n",
    "plt.title('Defaulters frequency on Loan tenure')\n",
    "plt.xlabel('Sex (36 = 36 months, 60 = 60 months)')\n",
    "plt.ylabel('Frequency')\n",
    "plt.xticks(rotation = 0)\n",
    "plt.show()"
   ]
  },
  {
   "cell_type": "markdown",
   "id": "d33180f0-14f3-4772-954c-5e81c8e77fe3",
   "metadata": {},
   "source": [
    "### Insight: 36 months term has higher fully paid and charged off than 60 months term."
   ]
  },
  {
   "cell_type": "code",
   "execution_count": 46,
   "id": "818f84c3-9109-454d-9d5c-c7d4c42357af",
   "metadata": {},
   "outputs": [
    {
     "data": {
      "image/png": "[encoded data removed]",
      "text/plain": [
       "<Figure size 576x432 with 1 Axes>"
      ]
     },
     "metadata": {
      "needs_background": "light"
     },
     "output_type": "display_data"
    }
   ],
   "source": [
    "plt.figure(figsize = [8, 6])\n",
    "ax = sns.barplot(x = loan_data2.issue_d_month, y = loan_data2.loan_amnt)\n",
    "plt.show()"
   ]
  },
  {
   "cell_type": "markdown",
   "id": "772c9577-5905-408a-a59a-304f65e9c6d8",
   "metadata": {},
   "source": [
    "### Insight: In a year, on December, highest number of loans are issued and on June, it is lowest."
   ]
  },
  {
   "cell_type": "code",
   "execution_count": 47,
   "id": "73f8da82-e493-4a61-9a40-08aaf1248d28",
   "metadata": {},
   "outputs": [
    {
     "data": {
      "image/png": "[encoded data removed]",
      "text/plain": [
       "<Figure size 576x432 with 1 Axes>"
      ]
     },
     "metadata": {
      "needs_background": "light"
     },
     "output_type": "display_data"
    }
   ],
   "source": [
    "plt.figure(figsize = [8, 6])\n",
    "sns.barplot(x = loan_data2['loan_amnt_k'], y = loan_data2['dti'])\n",
    "plt.show()"
   ]
  },
  {
   "cell_type": "markdown",
   "id": "ba082b33-ecca-4d7a-97db-ecce28a6ec8b",
   "metadata": {},
   "source": [
    "### Insight: When the loan applicant has higher Debit to Income (DTI), they apply for very \"high\" loan amount. This applications can be scrutinized or might be rejected."
   ]
  },
  {
   "cell_type": "code",
   "execution_count": 48,
   "id": "8908b95f-6f4a-49c4-9f0d-90dee61de2e7",
   "metadata": {},
   "outputs": [
    {
     "data": {
      "image/png": "[encoded data removed]",
      "text/plain": [
       "<Figure size 576x432 with 1 Axes>"
      ]
     },
     "metadata": {
      "needs_background": "light"
     },
     "output_type": "display_data"
    }
   ],
   "source": [
    "plt.figure(figsize = [8, 6])\n",
    "sns.boxplot(x = loan_data2['emp_length'], y = loan_data2['loan_amnt_k'])\n",
    "plt.show()"
   ]
  },
  {
   "cell_type": "markdown",
   "id": "72d026d0-2fe2-4ecb-8d77-23de18380223",
   "metadata": {},
   "source": [
    "### Insight: Applicant who has less than a year employed is applying for higher loan amount. So it an be considered to scrutinize or reject the applicaiton."
   ]
  },
  {
   "cell_type": "code",
   "execution_count": 49,
   "id": "5c53b0d0-b7a7-41f8-9e65-dd1a1470807e",
   "metadata": {},
   "outputs": [
    {
     "data": {
      "image/png": "[encoded data removed]",
      "text/plain": [
       "<Figure size 720x720 with 1 Axes>"
      ]
     },
     "metadata": {
      "needs_background": "light"
     },
     "output_type": "display_data"
    }
   ],
   "source": [
    "plt.figure(figsize = [10, 10])\n",
    "sns.barplot(y = loan_data2['loan_amnt_k'], x = loan_data2['issue_d_year'], hue = loan_data2['loan_status'])\n",
    "plt.xticks(rotation=90)\n",
    "plt.show()"
   ]
  },
  {
   "cell_type": "code",
   "execution_count": 50,
   "id": "15a2b9e0-b1dc-434d-b591-37e76fd61f45",
   "metadata": {},
   "outputs": [
    {
     "data": {
      "text/html": [
       "<div>\n",
       "<style scoped>\n",
       "    .dataframe tbody tr th:only-of-type {\n",
       "        vertical-align: middle;\n",
       "    }\n",
       "\n",
       "    .dataframe tbody tr th {\n",
       "        vertical-align: top;\n",
       "    }\n",
       "\n",
       "    .dataframe thead th {\n",
       "        text-align: right;\n",
       "    }\n",
       "</style>\n",
       "<table border=\"1\" class=\"dataframe\">\n",
       "  <thead>\n",
       "    <tr style=\"text-align: right;\">\n",
       "      <th></th>\n",
       "      <th>addr_state</th>\n",
       "      <th>zip_code</th>\n",
       "      <th>0</th>\n",
       "    </tr>\n",
       "  </thead>\n",
       "  <tbody>\n",
       "    <tr>\n",
       "      <th>0</th>\n",
       "      <td>AL</td>\n",
       "      <td>350</td>\n",
       "      <td>43</td>\n",
       "    </tr>\n",
       "    <tr>\n",
       "      <th>1</th>\n",
       "      <td>AL</td>\n",
       "      <td>351</td>\n",
       "      <td>28</td>\n",
       "    </tr>\n",
       "    <tr>\n",
       "      <th>2</th>\n",
       "      <td>AL</td>\n",
       "      <td>352</td>\n",
       "      <td>45</td>\n",
       "    </tr>\n",
       "    <tr>\n",
       "      <th>3</th>\n",
       "      <td>AL</td>\n",
       "      <td>353</td>\n",
       "      <td>1</td>\n",
       "    </tr>\n",
       "    <tr>\n",
       "      <th>4</th>\n",
       "      <td>AL</td>\n",
       "      <td>354</td>\n",
       "      <td>17</td>\n",
       "    </tr>\n",
       "    <tr>\n",
       "      <th>...</th>\n",
       "      <td>...</td>\n",
       "      <td>...</td>\n",
       "      <td>...</td>\n",
       "    </tr>\n",
       "    <tr>\n",
       "      <th>778</th>\n",
       "      <td>WV</td>\n",
       "      <td>265</td>\n",
       "      <td>12</td>\n",
       "    </tr>\n",
       "    <tr>\n",
       "      <th>779</th>\n",
       "      <td>WV</td>\n",
       "      <td>266</td>\n",
       "      <td>1</td>\n",
       "    </tr>\n",
       "    <tr>\n",
       "      <th>780</th>\n",
       "      <td>WV</td>\n",
       "      <td>267</td>\n",
       "      <td>2</td>\n",
       "    </tr>\n",
       "    <tr>\n",
       "      <th>781</th>\n",
       "      <td>WV</td>\n",
       "      <td>268</td>\n",
       "      <td>5</td>\n",
       "    </tr>\n",
       "    <tr>\n",
       "      <th>782</th>\n",
       "      <td>WV</td>\n",
       "      <td>285</td>\n",
       "      <td>1</td>\n",
       "    </tr>\n",
       "  </tbody>\n",
       "</table>\n",
       "<p>783 rows × 3 columns</p>\n",
       "</div>"
      ],
      "text/plain": [
       "    addr_state  zip_code   0\n",
       "0           AL       350  43\n",
       "1           AL       351  28\n",
       "2           AL       352  45\n",
       "3           AL       353   1\n",
       "4           AL       354  17\n",
       "..         ...       ...  ..\n",
       "778         WV       265  12\n",
       "779         WV       266   1\n",
       "780         WV       267   2\n",
       "781         WV       268   5\n",
       "782         WV       285   1\n",
       "\n",
       "[783 rows x 3 columns]"
      ]
     },
     "execution_count": 50,
     "metadata": {},
     "output_type": "execute_result"
    },
    {
     "data": {
      "text/plain": [
       "<Figure size 720x720 with 0 Axes>"
      ]
     },
     "metadata": {},
     "output_type": "display_data"
    }
   ],
   "source": [
    "#checking by group the address and zipcode and counting how many elements each has\n",
    "\n",
    "plt.figure(figsize = [10, 10])\n",
    "loan_data2.groupby(['addr_state', 'zip_code']).size().reset_index()"
   ]
  },
  {
   "cell_type": "code",
   "execution_count": 51,
   "id": "a6b988a5-c220-441b-8968-029b13057e58",
   "metadata": {},
   "outputs": [
    {
     "data": {
      "image/png": "[encoded data removed]",
      "text/plain": [
       "<Figure size 864x720 with 1 Axes>"
      ]
     },
     "metadata": {
      "needs_background": "light"
     },
     "output_type": "display_data"
    }
   ],
   "source": [
    "plt.figure(figsize = [12, 10])\n",
    "sns.histplot(x = loan_data2['addr_state'], hue = loan_data2['loan_amnt_k'], palette = sns.color_palette(\"Blues\", as_cmap=True), kde=True)\n",
    "plt.xticks(rotation=90) \n",
    "plt.show()"
   ]
  },
  {
   "cell_type": "markdown",
   "id": "8a99de5b-28a0-4a3c-adfc-bec8e5e503be",
   "metadata": {},
   "source": [
    "### Insights5: Based on state wise, fewer states like CA, NY, FL, TX, NJ are processsing high number of loans."
   ]
  },
  {
   "cell_type": "code",
   "execution_count": 52,
   "id": "de5f4a5c-95e1-4878-affd-8eadf0e71139",
   "metadata": {},
   "outputs": [
    {
     "data": {
      "image/png": "[encoded data removed]",
      "text/plain": [
       "<Figure size 720x720 with 1 Axes>"
      ]
     },
     "metadata": {
      "needs_background": "light"
     },
     "output_type": "display_data"
    }
   ],
   "source": [
    "plt.figure(figsize = [10, 10])\n",
    "sns.barplot(y = loan_data2['loan_amnt_k'], x = loan_data2['purpose'], hue = loan_data2['loan_status'])\n",
    "plt.xticks(rotation=90)\n",
    "plt.show()"
   ]
  },
  {
   "cell_type": "code",
   "execution_count": 53,
   "id": "979bc81d-8d4d-46e1-8d81-102ad399e108",
   "metadata": {},
   "outputs": [
    {
     "data": {
      "image/png": "[encoded data removed]",
      "text/plain": [
       "<Figure size 936x936 with 1 Axes>"
      ]
     },
     "metadata": {
      "needs_background": "light"
     },
     "output_type": "display_data"
    }
   ],
   "source": [
    "plt.figure(figsize = [13, 13])\n",
    "sns.barplot( x = loan_data2['addr_state'], y = loan_data2['loan_amnt_k'])\n",
    "plt.xticks(rotation=90)\n",
    "plt.show()"
   ]
  },
  {
   "cell_type": "code",
   "execution_count": 55,
   "id": "931e4bc4-8496-4735-9242-402143037c29",
   "metadata": {},
   "outputs": [
    {
     "data": {
      "image/png": "[encoded data removed]",
      "text/plain": [
       "<Figure size 432x288 with 1 Axes>"
      ]
     },
     "metadata": {},
     "output_type": "display_data"
    }
   ],
   "source": [
    "loan_plot_pie = dict(loan_data2['loan_status'].value_counts())\n",
    "plt.pie(loan_plot_pie.values(), labels = loan_plot_pie.keys(), colors=sns.color_palette('bright'), autopct='%.0f%%')\n",
    "plt.show()"
   ]
  }
 ],
 "metadata": {
  "kernelspec": {
   "display_name": "Python 3 (ipykernel)",
   "language": "python",
   "name": "python3"
  },
  "language_info": {
   "codemirror_mode": {
    "name": "ipython",
    "version": 3
   },
   "file_extension": ".py",
   "mimetype": "text/x-python",
   "name": "python",
   "nbconvert_exporter": "python",
   "pygments_lexer": "ipython3",
   "version": "3.9.12"
  }
 },
 "nbformat": 4,
 "nbformat_minor": 5
}
